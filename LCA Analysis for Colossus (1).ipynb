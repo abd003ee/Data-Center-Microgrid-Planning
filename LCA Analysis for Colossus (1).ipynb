{
 "cells": [
  {
   "cell_type": "code",
   "execution_count": 29,
   "id": "7ce22d8b-c793-4e34-9c3e-97b56e777100",
   "metadata": {},
   "outputs": [
    {
     "name": "stdout",
     "output_type": "stream",
     "text": [
      "\n",
      "Maximum wind generation year: 1996\n",
      "Wind energy generated: 924,033,845.21 kWh\n",
      "Total Wind LCA CO₂-eq emissions over 15 years: 91,479,350.68 kg CO2\n"
     ]
    }
   ],
   "source": [
    "import os\n",
    "import pandas as pd\n",
    "import matplotlib.pyplot as plt\n",
    "\n",
    "# === CONFIGURE ===\n",
    "folder_path = r\"C:\\Users\\Abdullah\\dispatch_outputs_solar-wind_dc\"\n",
    "years = list(range(2024, 1979, -1))\n",
    "yearly_wind_energy = {}\n",
    "\n",
    "# === COLLECT WIND ENERGY TOTALS ===\n",
    "for year in years:\n",
    "    file_path = os.path.join(folder_path, f\"dispatch_data_{year}.csv\")\n",
    "    try:\n",
    "        df = pd.read_csv(file_path)\n",
    "        total_kwh = df['Wind (kW)'].sum()\n",
    "        yearly_wind_energy[year] = total_kwh\n",
    "    except FileNotFoundError:\n",
    "        print(f\"Missing: dispatch_data_{year}.csv\")\n",
    "        yearly_wind_energy[year] = None\n",
    "\n",
    "# === FILTER VALID YEARS ===\n",
    "valid_energies = {y: e for y, e in yearly_wind_energy.items() if e is not None}\n",
    "\n",
    "if not valid_energies:\n",
    "    print(\"No valid wind data found.\")\n",
    "else:\n",
    "    # === FIND MAXIMUM YEAR AND ENERGY ===\n",
    "    max_year = max(valid_energies, key=valid_energies.get)\n",
    "    max_energy = valid_energies[max_year]  # in kWh\n",
    "\n",
    "    # === EMISSIONS CALCULATION (6.6 g CO₂/kWh) ===\n",
    "    co2e_per_kwh_kg = 6.6 / 1000  # convert to kg\n",
    "    wind_lca_emissions_kg = max_energy * co2e_per_kwh_kg *15\n",
    "\n",
    "    # === OUTPUT ===\n",
    "    print(f\"\\nMaximum wind generation year: {max_year}\")\n",
    "    print(f\"Wind energy generated: {max_energy:,.2f} kWh\")\n",
    "    print(f\"Total Wind LCA CO₂-eq emissions over 15 years: {wind_lca_emissions_kg:,.2f} kg CO2\")"
   ]
  },
  {
   "cell_type": "code",
   "execution_count": 31,
   "id": "4fc0b7c2-700c-4c2f-a3cd-c5933db51c1c",
   "metadata": {},
   "outputs": [
    {
     "name": "stdout",
     "output_type": "stream",
     "text": [
      "\n",
      "Maximum solar generation year: 1988\n",
      "Solar energy generated: 5,558,012,010.75 kWh\n",
      "Total Solar LCA CO₂-eq emissions: 3,668,287,927.09 kg CO2\n"
     ]
    }
   ],
   "source": [
    "import os\n",
    "import pandas as pd\n",
    "import matplotlib.pyplot as plt\n",
    "\n",
    "# === CONFIGURE ===\n",
    "folder_path = r\"C:\\Users\\Abdullah\\dispatch_outputs_solar-wind_dc\"\n",
    "years = list(range(2024, 1979, -1))\n",
    "yearly_wind_energy = {}\n",
    "\n",
    "# === COLLECT WIND ENERGY TOTALS ===\n",
    "for year in years:\n",
    "    file_path = os.path.join(folder_path, f\"dispatch_data_{year}.csv\")\n",
    "    try:\n",
    "        df = pd.read_csv(file_path)\n",
    "        total_kwh = df['Solar (kW)'].sum()\n",
    "        yearly_wind_energy[year] = total_kwh\n",
    "    except FileNotFoundError:\n",
    "        print(f\"Missing: dispatch_data_{year}.csv\")\n",
    "        yearly_wind_energy[year] = None\n",
    "\n",
    "# === FILTER VALID YEARS ===\n",
    "valid_energies = {y: e for y, e in yearly_wind_energy.items() if e is not None}\n",
    "\n",
    "if not valid_energies:\n",
    "    print(\"No valid solar data found.\")\n",
    "else:\n",
    "    # === FIND MAXIMUM YEAR AND ENERGY ===\n",
    "    max_year = max(valid_energies, key=valid_energies.get)\n",
    "    max_energy = valid_energies[max_year]  # in kWh\n",
    "\n",
    "    # === EMISSIONS CALCULATION (44 g CO₂/kWh) ===\n",
    "    co2e_per_kwh_kg = 44 / 1000  # convert to kg\n",
    "    solar_lca_emissions_kg = max_energy * co2e_per_kwh_kg *15\n",
    "\n",
    "    # === OUTPUT ===\n",
    "    print(f\"\\nMaximum solar generation year: {max_year}\")\n",
    "    print(f\"Solar energy generated: {max_energy:,.2f} kWh\")\n",
    "    print(f\"Total Solar LCA CO₂-eq emissions: {solar_lca_emissions_kg:,.2f} kg CO2\")"
   ]
  },
  {
   "cell_type": "code",
   "execution_count": 33,
   "id": "17dcd753-312e-4de5-b112-463c49eb6342",
   "metadata": {},
   "outputs": [
    {
     "name": "stdout",
     "output_type": "stream",
     "text": [
      "First Battery Capacity: 5,959,201.565235 kWh\n",
      "Multiplied Result (×151): 899,839,436.35 kgCO2\n"
     ]
    }
   ],
   "source": [
    "import pandas as pd\n",
    "\n",
    "# === File path on your machine ===\n",
    "file_path = r\"C:\\Users\\Abdullah\\dispatch_outputs_solar-wind_dc\\capacity_and_costs_by_year.csv\"\n",
    "\n",
    "# === Load the data ===\n",
    "df = pd.read_csv(file_path)\n",
    "\n",
    "# === Get first battery capacity value ===\n",
    "first_capacity_kwh = df.loc[0, 'Battery_Capacity_kWh']\n",
    "\n",
    "# === Multiply by given factor ===\n",
    "base_battery_lca = first_capacity_kwh * 151 #kgCO2/kWh\n",
    "\n",
    "# === Output ===\n",
    "print(f\"First Battery Capacity: {first_capacity_kwh:,.6f} kWh\")\n",
    "print(f\"Multiplied Result (×151): {base_battery_lca:,.2f} kgCO2\")\n"
   ]
  },
  {
   "cell_type": "code",
   "execution_count": 35,
   "id": "5b54abc9-4250-4571-aa13-146905a748e1",
   "metadata": {},
   "outputs": [
    {
     "name": "stdout",
     "output_type": "stream",
     "text": [
      "Max Replacment Battery Capacity Emissions over 15 years: 135,347,822.038509 kgCO2\n"
     ]
    }
   ],
   "source": [
    "import os\n",
    "import pandas as pd\n",
    "import numpy as np\n",
    "\n",
    "# === File Directory Configuration ===\n",
    "folder_path = r\"C:\\Users\\Abdullah\\dispatch_outputs_solar-wind_dc\"\n",
    "years = list(range(2024, 1979, -1))\n",
    "\n",
    "# === Store Total Degradation Per Year ===\n",
    "yearly_degradation = {}\n",
    "\n",
    "for year in years:\n",
    "    file_path = os.path.join(folder_path, f\"cycles_{year}.csv\")\n",
    "    try:\n",
    "        df = pd.read_csv(file_path)\n",
    "        if 'degradation' in df.columns:\n",
    "            total_deg = df['degradation'].sum()\n",
    "            yearly_degradation[year] = total_deg\n",
    "        else:\n",
    "            yearly_degradation[year] = None\n",
    "    except FileNotFoundError:\n",
    "        yearly_degradation[year] = None\n",
    "\n",
    "# === Get Maximum Degradation Value ===\n",
    "valid_degs = [v for v in yearly_degradation.values() if v is not None]\n",
    "max_deg = max(valid_degs) if valid_degs else None\n",
    "\n",
    "# === Use First Battery Capacity and Compute Replacement Capacity ===\n",
    "battery_capacity_kwh = 5959201.565234834  # From earlier result\n",
    "\n",
    "if max_deg is not None:\n",
    "    replaced_battery_capacity_kwh = (battery_capacity_kwh / (1 - max_deg)) - battery_capacity_kwh\n",
    "    replaced_battery_capacity_lca = replaced_battery_capacity_kwh * 151\n",
    "else:\n",
    "    replaced_battery_capacity_kwh = None\n",
    "    replaced_battery_capacity_lca = None\n",
    "\n",
    "max_deg, replaced_battery_capacity_kwh, replaced_battery_capacity_lca\n",
    "\n",
    "replaced_battery_capacity_lca_15=replaced_battery_capacity_lca*15\n",
    "\n",
    "# === Output ===\n",
    "print(f\"Max Replacment Battery Capacity Emissions over 15 years: {replaced_battery_capacity_lca_15:,.6f} kgCO2\")\n"
   ]
  },
  {
   "cell_type": "code",
   "execution_count": 37,
   "id": "3e4e9817-1c4a-4dc5-a5d6-5f3b0cb8d6e9",
   "metadata": {},
   "outputs": [
    {
     "name": "stdout",
     "output_type": "stream",
     "text": [
      "Renewable System Emissions: 4,794,954,536.157236 kgCO2\n"
     ]
    }
   ],
   "source": [
    "Total_renewable_emissions=replaced_battery_capacity_lca_15+base_battery_lca+wind_lca_emissions_kg+solar_lca_emissions_kg\n",
    "\n",
    "# === Output ===\n",
    "print(f\"Renewable System Emissions: {Total_renewable_emissions:,.6f} kgCO2\")"
   ]
  },
  {
   "cell_type": "markdown",
   "id": "f317a679-d391-42c6-8ec6-c14db899052d",
   "metadata": {},
   "source": [
    "# BAU Emissions"
   ]
  },
  {
   "cell_type": "code",
   "execution_count": 40,
   "id": "4f442a4c-77ac-4265-a687-f0b179af1b72",
   "metadata": {},
   "outputs": [
    {
     "name": "stdout",
     "output_type": "stream",
     "text": [
      "Total Annual Grid CO2 emissions: 669,772,951.13 kgCO2\n"
     ]
    }
   ],
   "source": [
    "import pandas as pd\n",
    "import numpy as np\n",
    "import gurobipy as gp\n",
    "from gurobipy import GRB\n",
    "import matplotlib.pyplot as plt\n",
    "\n",
    "import pandas as pd\n",
    "import numpy as np\n",
    "\n",
    "from scipy.interpolate import make_interp_spline\n",
    "hours = 8760\n",
    "# Generate hourly dynamic PUE profile\n",
    "quarter_midpoints = np.linspace(0, hours, 5)  # [0, 2190, 4380, 6570, 8760]\n",
    "pue_targets = [1.09, 1.11, 1.13, 1.08, 1.09]  # Quarterly values\n",
    "spline = make_interp_spline(quarter_midpoints, pue_targets, k=3)\n",
    "hourly_pue = spline(np.arange(hours))\n",
    "\n",
    "# Load the CSV\n",
    "df_base = pd.read_csv('Desktop/base_power_profile.csv')\n",
    "\n",
    "# Extract the 'Power_W' column as a NumPy array\n",
    "base_power = df_base['Power_W'].to_numpy()\n",
    "\n",
    "dc_ac_conversion_efficiency=0.975 \n",
    "#PUE= 1.15 #\n",
    "load_profile = (base_power[:hours] / 1000) * 200000 * 1.405 * (hourly_pue / dc_ac_conversion_efficiency)  # kW\n",
    "# Pricing in $/kWh\n",
    "grid_limit_kw = 150000  # 150 MW\n",
    "grid_rate = 0.2892       # kgCO2e/kWh\n",
    "gas_rate = 0.46        # kgCO2e/kWh\n",
    "\n",
    "# Initialize cost array\n",
    "hourly_cost = np.zeros_like(load_profile)\n",
    "\n",
    "# Compute cost per hour\n",
    "for i in range(hours):\n",
    "    if load_profile[i] <= grid_limit_kw:\n",
    "        hourly_cost[i] = load_profile[i] * grid_rate\n",
    "    else:\n",
    "        grid_energy = grid_limit_kw * grid_rate\n",
    "        gas_energy = (load_profile[i] - grid_limit_kw) * gas_rate\n",
    "        hourly_cost[i] = grid_energy + gas_energy\n",
    "\n",
    "# Total cost for the year\n",
    "total_annual_grid = np.sum(hourly_cost)\n",
    "\n",
    "print(f\"Total Annual Grid CO2 emissions: {total_annual_grid:,.2f} kgCO2\")\n"
   ]
  },
  {
   "cell_type": "code",
   "execution_count": 42,
   "id": "5cee9607-0dc6-4b22-9837-3cfbde9c0984",
   "metadata": {},
   "outputs": [
    {
     "data": {
      "image/png": "[encoded data removed]",
      "text/plain": [
       "<Figure size 1000x400 with 1 Axes>"
      ]
     },
     "metadata": {},
     "output_type": "display_data"
    },
    {
     "data": {
      "text/plain": [
       "8"
      ]
     },
     "execution_count": 42,
     "metadata": {},
     "output_type": "execute_result"
    }
   ],
   "source": [
    "import matplotlib.pyplot as plt\n",
    "import numpy as np\n",
    "\n",
    "\n",
    "# === Project lifetime and CO2 flow ===\n",
    "project_lifetime = 15  # Assume 30 years for LCA horizon\n",
    "\n",
    "# CO2 flows: Year 0 is the \"CO2 investment\" (debt), rest are yearly avoided grid emissions\n",
    "co2_flows = [-Total_renewable_emissions] + [total_annual_grid] * project_lifetime\n",
    "cumulative_co2 = np.cumsum(co2_flows)\n",
    "\n",
    "# Plotting\n",
    "plt.figure(figsize=(10, 4))\n",
    "bars = plt.bar(range(project_lifetime + 1), cumulative_co2, color='lightcoral')\n",
    "plt.axhline(0, color='black', linewidth=1)\n",
    "plt.axhline(y=0, linestyle='--', color='gray')\n",
    "\n",
    "# Highlight break-even year\n",
    "break_even_year = np.argmax(cumulative_co2 >= 0)\n",
    "bars[break_even_year].set_color('green')\n",
    "\n",
    "# Labels and title\n",
    "plt.title('Resilience Cumulative CO₂ Emissions Payback Over Time\\n(Renewable System vs. Grid Emissions Avoided)')\n",
    "plt.xlabel('Year')\n",
    "plt.ylabel('Cumulative CO₂ (kg)')\n",
    "plt.xticks(range(0, project_lifetime + 1, 2))\n",
    "plt.grid(axis='y')\n",
    "\n",
    "# Optional annotation for break-even year\n",
    "plt.text(break_even_year, cumulative_co2[break_even_year],\n",
    "         f'  Break-even Year: {break_even_year}', color='green', va='bottom')\n",
    "\n",
    "plt.tight_layout()\n",
    "plt.show()\n",
    "\n",
    "# Output payback year for reference\n",
    "break_even_year\n"
   ]
  },
  {
   "cell_type": "markdown",
   "id": "7e5b2251-e7eb-4c5f-8594-64f6f00b838b",
   "metadata": {},
   "source": [
    "# Financial Case"
   ]
  },
  {
   "cell_type": "code",
   "execution_count": 15,
   "id": "a24d431f-f6ee-4dfe-8aea-b12111ad2da9",
   "metadata": {},
   "outputs": [
    {
     "name": "stdout",
     "output_type": "stream",
     "text": [
      "\n",
      "Maximum wind generation year: 1996\n",
      "Wind energy generated: 678,383,623.07 kWh\n",
      "Total Wind LCA CO₂-eq emissions over 15 years: 67,159,978.68 kg CO2\n"
     ]
    }
   ],
   "source": [
    "import os\n",
    "import pandas as pd\n",
    "import matplotlib.pyplot as plt\n",
    "\n",
    "# === CONFIGURE ===\n",
    "folder_path = r\"C:\\Users\\Abdullah\\dispatch_outputs_solar-wind_dc_98metLoadCostCurtailment\"\n",
    "years = list(range(2024, 1979, -1))\n",
    "yearly_wind_energy = {}\n",
    "\n",
    "# === COLLECT WIND ENERGY TOTALS ===\n",
    "for year in years:\n",
    "    file_path = os.path.join(folder_path, f\"dispatch_data_{year}.csv\")\n",
    "    try:\n",
    "        df = pd.read_csv(file_path)\n",
    "        total_kwh = df['Wind (kW)'].sum()\n",
    "        yearly_wind_energy[year] = total_kwh\n",
    "    except FileNotFoundError:\n",
    "        print(f\"Missing: dispatch_data_{year}.csv\")\n",
    "        yearly_wind_energy[year] = None\n",
    "\n",
    "# === FILTER VALID YEARS ===\n",
    "valid_energies = {y: e for y, e in yearly_wind_energy.items() if e is not None}\n",
    "\n",
    "if not valid_energies:\n",
    "    print(\"No valid wind data found.\")\n",
    "else:\n",
    "    # === FIND MAXIMUM YEAR AND ENERGY ===\n",
    "    max_year = max(valid_energies, key=valid_energies.get)\n",
    "    max_energy = valid_energies[max_year]  # in kWh\n",
    "\n",
    "    # === EMISSIONS CALCULATION (6.6 g CO₂/kWh) ===\n",
    "    co2e_per_kwh_kg = 6.6 / 1000  # convert to kg\n",
    "    wind_lca_emissions_kg = max_energy * co2e_per_kwh_kg *15\n",
    "\n",
    "    # === OUTPUT ===\n",
    "    print(f\"\\nMaximum wind generation year: {max_year}\")\n",
    "    print(f\"Wind energy generated: {max_energy:,.2f} kWh\")\n",
    "    print(f\"Total Wind LCA CO₂-eq emissions over 15 years: {wind_lca_emissions_kg:,.2f} kg CO2\")"
   ]
  },
  {
   "cell_type": "code",
   "execution_count": 16,
   "id": "a94a2540-d71f-486c-8ec0-61a6d3e72c32",
   "metadata": {},
   "outputs": [
    {
     "name": "stdout",
     "output_type": "stream",
     "text": [
      "\n",
      "Maximum solar generation year: 1988\n",
      "Solar energy generated: 3,740,481,285.86 kWh\n",
      "Total Solar LCA CO₂-eq emissions: 2,468,717,648.67 kg CO2\n"
     ]
    }
   ],
   "source": [
    "import os\n",
    "import pandas as pd\n",
    "import matplotlib.pyplot as plt\n",
    "\n",
    "# === CONFIGURE ===\n",
    "folder_path = r\"C:\\Users\\Abdullah\\dispatch_outputs_solar-wind_dc_98metLoadCostCurtailment\"\n",
    "years = list(range(2024, 1979, -1))\n",
    "yearly_wind_energy = {}\n",
    "\n",
    "# === COLLECT WIND ENERGY TOTALS ===\n",
    "for year in years:\n",
    "    file_path = os.path.join(folder_path, f\"dispatch_data_{year}.csv\")\n",
    "    try:\n",
    "        df = pd.read_csv(file_path)\n",
    "        total_kwh = df['Solar (kW)'].sum()\n",
    "        yearly_wind_energy[year] = total_kwh\n",
    "    except FileNotFoundError:\n",
    "        print(f\"Missing: dispatch_data_{year}.csv\")\n",
    "        yearly_wind_energy[year] = None\n",
    "\n",
    "# === FILTER VALID YEARS ===\n",
    "valid_energies = {y: e for y, e in yearly_wind_energy.items() if e is not None}\n",
    "\n",
    "if not valid_energies:\n",
    "    print(\"No valid solar data found.\")\n",
    "else:\n",
    "    # === FIND MAXIMUM YEAR AND ENERGY ===\n",
    "    max_year = max(valid_energies, key=valid_energies.get)\n",
    "    max_energy = valid_energies[max_year]  # in kWh\n",
    "\n",
    "    # === EMISSIONS CALCULATION (44 g CO₂/kWh) ===\n",
    "    co2e_per_kwh_kg = 44 / 1000  # convert to kg\n",
    "    solar_lca_emissions_kg = max_energy * co2e_per_kwh_kg *15\n",
    "\n",
    "    # === OUTPUT ===\n",
    "    print(f\"\\nMaximum solar generation year: {max_year}\")\n",
    "    print(f\"Solar energy generated: {max_energy:,.2f} kWh\")\n",
    "    print(f\"Total Solar LCA CO₂-eq emissions: {solar_lca_emissions_kg:,.2f} kg CO2\")"
   ]
  },
  {
   "cell_type": "code",
   "execution_count": 19,
   "id": "0c0a82b2-461c-423f-9245-774f9e7873d4",
   "metadata": {},
   "outputs": [
    {
     "name": "stdout",
     "output_type": "stream",
     "text": [
      "First Battery Capacity: 3,591,077.972362 kWh\n",
      "Multiplied Result (×151): 542,252,773.83 kgCO2\n"
     ]
    }
   ],
   "source": [
    "import pandas as pd\n",
    "\n",
    "# === File path on your machine ===\n",
    "file_path = r\"C:\\Users\\Abdullah\\dispatch_outputs_solar-wind_dc_98metLoadCostCurtailment\\capacity_and_costs_by_year.csv\"\n",
    "\n",
    "# === Load the data ===\n",
    "df = pd.read_csv(file_path)\n",
    "\n",
    "# === Get first battery capacity value ===\n",
    "first_capacity_kwh = df.loc[0, 'Battery_Capacity_kWh']\n",
    "\n",
    "# === Multiply by given factor ===\n",
    "base_battery_lca = first_capacity_kwh * 151 #kgCO2/kWh\n",
    "\n",
    "# === Output ===\n",
    "print(f\"First Battery Capacity: {first_capacity_kwh:,.6f} kWh\")\n",
    "print(f\"Multiplied Result (×151): {base_battery_lca:,.2f} kgCO2\")\n"
   ]
  },
  {
   "cell_type": "code",
   "execution_count": 21,
   "id": "1c19ef85-86ce-4532-a2f6-986a8936455f",
   "metadata": {},
   "outputs": [
    {
     "name": "stdout",
     "output_type": "stream",
     "text": [
      "Max Replacment Battery Capacity Emissions over 15 years: 239,682,317.630046 kgCO2\n"
     ]
    }
   ],
   "source": [
    "import os\n",
    "import pandas as pd\n",
    "import numpy as np\n",
    "\n",
    "# === File Directory Configuration ===\n",
    "folder_path = r\"C:\\Users\\Abdullah\\dispatch_outputs_solar-wind_dc_98metLoadCostCurtailment\"\n",
    "years = list(range(2024, 1979, -1))\n",
    "\n",
    "# === Store Total Degradation Per Year ===\n",
    "yearly_degradation = {}\n",
    "\n",
    "for year in years:\n",
    "    file_path = os.path.join(folder_path, f\"cycles_{year}.csv\")\n",
    "    try:\n",
    "        df = pd.read_csv(file_path)\n",
    "        if 'degradation' in df.columns:\n",
    "            total_deg = df['degradation'].sum()\n",
    "            yearly_degradation[year] = total_deg\n",
    "        else:\n",
    "            yearly_degradation[year] = None\n",
    "    except FileNotFoundError:\n",
    "        yearly_degradation[year] = None\n",
    "\n",
    "# === Get Maximum Degradation Value ===\n",
    "valid_degs = [v for v in yearly_degradation.values() if v is not None]\n",
    "max_deg = max(valid_degs) if valid_degs else None\n",
    "\n",
    "# === Use First Battery Capacity and Compute Replacement Capacity ===\n",
    "battery_capacity_kwh = first_capacity_kwh  # From earlier result\n",
    "\n",
    "if max_deg is not None:\n",
    "    replaced_battery_capacity_kwh = (battery_capacity_kwh / (1 - max_deg)) - battery_capacity_kwh\n",
    "    replaced_battery_capacity_lca = replaced_battery_capacity_kwh * 151\n",
    "else:\n",
    "    replaced_battery_capacity_kwh = None\n",
    "    replaced_battery_capacity_lca = None\n",
    "\n",
    "max_deg, replaced_battery_capacity_kwh, replaced_battery_capacity_lca\n",
    "\n",
    "replaced_battery_capacity_lca_15=replaced_battery_capacity_lca*15\n",
    "\n",
    "# === Output ===\n",
    "print(f\"Max Replacment Battery Capacity Emissions over 15 years: {replaced_battery_capacity_lca_15:,.6f} kgCO2\")\n"
   ]
  },
  {
   "cell_type": "code",
   "execution_count": 23,
   "id": "2270b9ce-6a7f-464e-92e0-fc60e39c30dd",
   "metadata": {},
   "outputs": [
    {
     "name": "stdout",
     "output_type": "stream",
     "text": [
      "Total Annual Grid CO2 emissions: 651,888,868.10 kgCO2\n"
     ]
    }
   ],
   "source": [
    "import pandas as pd\n",
    "import numpy as np\n",
    "import gurobipy as gp\n",
    "from gurobipy import GRB\n",
    "import matplotlib.pyplot as plt\n",
    "\n",
    "import pandas as pd\n",
    "import numpy as np\n",
    "\n",
    "from scipy.interpolate import make_interp_spline\n",
    "hours = 8760\n",
    "# Generate hourly dynamic PUE profile\n",
    "quarter_midpoints = np.linspace(0, hours, 5)  # [0, 2190, 4380, 6570, 8760]\n",
    "pue_targets = [1.09, 1.11, 1.13, 1.08, 1.09]  # Quarterly values\n",
    "spline = make_interp_spline(quarter_midpoints, pue_targets, k=3)\n",
    "hourly_pue = spline(np.arange(hours))\n",
    "\n",
    "# Load the CSV\n",
    "df_base = pd.read_csv('Desktop/base_power_profile.csv')\n",
    "\n",
    "# Extract the 'Power_W' column as a NumPy array\n",
    "base_power = df_base['Power_W'].to_numpy()\n",
    "\n",
    "dc_ac_conversion_efficiency=0.975 \n",
    "#PUE= 1.15 #\n",
    "load_profile = (base_power[:hours] / 1000) * 200000 * 1.405 * (hourly_pue / dc_ac_conversion_efficiency) *0.98 # kW\n",
    "# Pricing in $/kWh\n",
    "grid_limit_kw = 150000  # 150 MW\n",
    "grid_rate = 0.2892       # kgCO2e/kWh\n",
    "gas_rate = 0.46        # kgCO2e/kWh\n",
    "\n",
    "# Initialize cost array\n",
    "hourly_cost = np.zeros_like(load_profile)\n",
    "\n",
    "# Compute cost per hour\n",
    "for i in range(hours):\n",
    "    if load_profile[i] <= grid_limit_kw:\n",
    "        hourly_cost[i] = load_profile[i] * grid_rate\n",
    "    else:\n",
    "        grid_energy = grid_limit_kw * grid_rate\n",
    "        gas_energy = (load_profile[i] - grid_limit_kw) * gas_rate\n",
    "        hourly_cost[i] = grid_energy + gas_energy\n",
    "\n",
    "# Total cost for the year\n",
    "total_annual_grid = np.sum(hourly_cost)\n",
    "\n",
    "print(f\"Total Annual Grid CO2 emissions: {total_annual_grid:,.2f} kgCO2\")\n"
   ]
  },
  {
   "cell_type": "code",
   "execution_count": 25,
   "id": "be6a10a4-8d3b-429f-9bdd-bded21e3d082",
   "metadata": {},
   "outputs": [
    {
     "name": "stdout",
     "output_type": "stream",
     "text": [
      "Renewable System Emissions: 3,317,812,718.810306 kgCO2\n"
     ]
    }
   ],
   "source": [
    "Total_renewable_emissions=replaced_battery_capacity_lca_15+base_battery_lca+wind_lca_emissions_kg+solar_lca_emissions_kg\n",
    "\n",
    "# === Output ===\n",
    "print(f\"Renewable System Emissions: {Total_renewable_emissions:,.6f} kgCO2\")"
   ]
  },
  {
   "cell_type": "code",
   "execution_count": 27,
   "id": "3c9f31fb-a436-4e4d-a986-3b1de6e85a2b",
   "metadata": {},
   "outputs": [
    {
     "data": {
      "image/png": "[encoded data removed]",
      "text/plain": [
       "<Figure size 1000x400 with 1 Axes>"
      ]
     },
     "metadata": {},
     "output_type": "display_data"
    },
    {
     "data": {
      "text/plain": [
       "6"
      ]
     },
     "execution_count": 27,
     "metadata": {},
     "output_type": "execute_result"
    }
   ],
   "source": [
    "import matplotlib.pyplot as plt\n",
    "import numpy as np\n",
    "\n",
    "\n",
    "# === Project lifetime and CO2 flow ===\n",
    "project_lifetime = 15  # Assume 30 years for LCA horizon\n",
    "\n",
    "# CO2 flows: Year 0 is the \"CO2 investment\" (debt), rest are yearly avoided grid emissions\n",
    "co2_flows = [-Total_renewable_emissions] + [total_annual_grid] * project_lifetime\n",
    "cumulative_co2 = np.cumsum(co2_flows)\n",
    "\n",
    "# Plotting\n",
    "plt.figure(figsize=(10, 4))\n",
    "bars = plt.bar(range(project_lifetime + 1), cumulative_co2, color='lightcoral')\n",
    "plt.axhline(0, color='black', linewidth=1)\n",
    "plt.axhline(y=0, linestyle='--', color='gray')\n",
    "\n",
    "# Highlight break-even year\n",
    "break_even_year = np.argmax(cumulative_co2 >= 0)\n",
    "bars[break_even_year].set_color('green')\n",
    "\n",
    "# Labels and title\n",
    "plt.title('Financial Cumulative CO₂ Emissions Payback Over Time\\n(Renewable System vs. Grid Emissions Avoided)')\n",
    "plt.xlabel('Year')\n",
    "plt.ylabel('Cumulative CO₂ (kg)')\n",
    "plt.xticks(range(0, project_lifetime + 1, 2))\n",
    "plt.grid(axis='y')\n",
    "\n",
    "# Optional annotation for break-even year\n",
    "plt.text(break_even_year, cumulative_co2[break_even_year],\n",
    "         f'  Break-even Year: {break_even_year}', color='green', va='bottom')\n",
    "\n",
    "plt.tight_layout()\n",
    "plt.show()\n",
    "\n",
    "# Output payback year for reference\n",
    "break_even_year\n"
   ]
  },
  {
   "cell_type": "code",
   "execution_count": null,
   "id": "c3b9ae72-5e79-4cc5-8d4e-bac7e8d27c1f",
   "metadata": {},
   "outputs": [],
   "source": []
  }
 ],
 "metadata": {
  "kernelspec": {
   "display_name": "PyPSA Env",
   "language": "python",
   "name": "pypsa-env"
  },
  "language_info": {
   "codemirror_mode": {
    "name": "ipython",
    "version": 3
   },
   "file_extension": ".py",
   "mimetype": "text/x-python",
   "name": "python",
   "nbconvert_exporter": "python",
   "pygments_lexer": "ipython3",
   "version": "3.12.3"
  }
 },
 "nbformat": 4,
 "nbformat_minor": 5
}
